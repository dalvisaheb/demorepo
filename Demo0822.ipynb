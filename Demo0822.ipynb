{
 "cells": [
  {
   "cell_type": "code",
   "execution_count": 1,
   "id": "ff5f1e21",
   "metadata": {},
   "outputs": [
    {
     "name": "stdout",
     "output_type": "stream",
     "text": [
      "hello world\n"
     ]
    }
   ],
   "source": [
    "print(\"hello world\")\n",
    "#print is a function in python\n",
    "#paentheses in round bracket\n",
    "#'' \"\""
   ]
  },
  {
   "cell_type": "code",
   "execution_count": 2,
   "id": "f0259a08",
   "metadata": {},
   "outputs": [
    {
     "name": "stdout",
     "output_type": "stream",
     "text": [
      "10\n",
      "20\n",
      "sandeep\n"
     ]
    }
   ],
   "source": [
    "x=10\n",
    "y=20\n",
    "myname=\"sandeep\"\n",
    "\n",
    "print(x)\n",
    "print(y)\n",
    "print(myname)"
   ]
  },
  {
   "cell_type": "code",
   "execution_count": 3,
   "id": "67900332",
   "metadata": {},
   "outputs": [
    {
     "name": "stdout",
     "output_type": "stream",
     "text": [
      "sandeep dalvi\n"
     ]
    }
   ],
   "source": [
    "firstname='sandeep'\n",
    "lastname='dalvi'\n",
    "print(firstname, lastname)"
   ]
  },
  {
   "cell_type": "code",
   "execution_count": 4,
   "id": "9bf90437",
   "metadata": {},
   "outputs": [
    {
     "name": "stdout",
     "output_type": "stream",
     "text": [
      "sandeepdalvi\n"
     ]
    }
   ],
   "source": [
    "print(firstname+lastname)"
   ]
  },
  {
   "cell_type": "code",
   "execution_count": 5,
   "id": "0123bb91",
   "metadata": {},
   "outputs": [
    {
     "name": "stdout",
     "output_type": "stream",
     "text": [
      "sandeepdalvi\n"
     ]
    }
   ],
   "source": [
    "print(firstname + lastname)"
   ]
  },
  {
   "cell_type": "code",
   "execution_count": 6,
   "id": "1acd5fa7",
   "metadata": {},
   "outputs": [
    {
     "name": "stdout",
     "output_type": "stream",
     "text": [
      "110\n"
     ]
    }
   ],
   "source": [
    "a=50\n",
    "b=60\n",
    "print(a+b)"
   ]
  },
  {
   "cell_type": "code",
   "execution_count": 7,
   "id": "f71bac36",
   "metadata": {},
   "outputs": [
    {
     "name": "stdout",
     "output_type": "stream",
     "text": [
      "sum of a and b is 110\n"
     ]
    }
   ],
   "source": [
    "print('sum of a and b is',a+b)"
   ]
  },
  {
   "cell_type": "code",
   "execution_count": null,
   "id": "852b2a87",
   "metadata": {},
   "outputs": [],
   "source": []
  }
 ],
 "metadata": {
  "kernelspec": {
   "display_name": "Python 3 (ipykernel)",
   "language": "python",
   "name": "python3"
  },
  "language_info": {
   "codemirror_mode": {
    "name": "ipython",
    "version": 3
   },
   "file_extension": ".py",
   "mimetype": "text/x-python",
   "name": "python",
   "nbconvert_exporter": "python",
   "pygments_lexer": "ipython3",
   "version": "3.9.12"
  }
 },
 "nbformat": 4,
 "nbformat_minor": 5
}
